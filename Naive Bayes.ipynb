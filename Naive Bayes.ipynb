{
 "cells": [
  {
   "cell_type": "markdown",
   "metadata": {},
   "source": [
    "# Desafio Naive Bayes"
   ]
  },
  {
   "cell_type": "markdown",
   "metadata": {},
   "source": [
    "## 1. Librerías"
   ]
  },
  {
   "cell_type": "code",
   "execution_count": 1,
   "metadata": {},
   "outputs": [],
   "source": [
    "import numpy as np\n",
    "import pandas as pd\n",
    "import seaborn as sns\n",
    "import matplotlib.pyplot as plt\n",
    "from matplotlib.colors import ListedColormap, LinearSegmentedColormap\n",
    "\n",
    "from sklearn.pipeline import Pipeline\n",
    "from sklearn.naive_bayes import MultinomialNB\n",
    "from sklearn.preprocessing import StandardScaler\n",
    "from sklearn.model_selection import train_test_split\n",
    "from sklearn.feature_extraction.text import CountVectorizer\n",
    "from sklearn.metrics import confusion_matrix, classification_report\n",
    "\n",
    "import os\n",
    "import glob\n",
    "\n",
    "import warnings\n",
    "\n",
    "warnings.filterwarnings(action='ignore')\n",
    "plt.style.use('seaborn')                \n",
    "plt.rcParams['figure.figsize'] = (10,20)  "
   ]
  },
  {
   "cell_type": "code",
   "execution_count": 57,
   "metadata": {},
   "outputs": [],
   "source": [
    "dire = os.getcwd()+'\\dump'"
   ]
  },
  {
   "cell_type": "code",
   "execution_count": 58,
   "metadata": {},
   "outputs": [],
   "source": [
    "df = pd.concat(map(pd.read_csv, glob.glob(dire+'/*.csv')))"
   ]
  },
  {
   "cell_type": "code",
   "execution_count": 59,
   "metadata": {},
   "outputs": [],
   "source": [
    "df.drop(labels='Unnamed: 0',axis=1,inplace=True)"
   ]
  },
  {
   "cell_type": "code",
   "execution_count": 60,
   "metadata": {},
   "outputs": [],
   "source": [
    "columns_name={'0': 'artist',\n",
    "       '1': 'genre',\n",
    "       '2':'song',\n",
    "       '3':'lyrics'}"
   ]
  },
  {
   "cell_type": "code",
   "execution_count": 61,
   "metadata": {},
   "outputs": [],
   "source": [
    "df.rename(columns = columns_name, inplace=True)"
   ]
  },
  {
   "cell_type": "code",
   "execution_count": 82,
   "metadata": {},
   "outputs": [
    {
     "data": {
      "text/html": [
       "<div>\n",
       "<style scoped>\n",
       "    .dataframe tbody tr th:only-of-type {\n",
       "        vertical-align: middle;\n",
       "    }\n",
       "\n",
       "    .dataframe tbody tr th {\n",
       "        vertical-align: top;\n",
       "    }\n",
       "\n",
       "    .dataframe thead th {\n",
       "        text-align: right;\n",
       "    }\n",
       "</style>\n",
       "<table border=\"1\" class=\"dataframe\">\n",
       "  <thead>\n",
       "    <tr style=\"text-align: right;\">\n",
       "      <th></th>\n",
       "      <th>artist</th>\n",
       "      <th>genre</th>\n",
       "      <th>song</th>\n",
       "      <th>lyrics</th>\n",
       "    </tr>\n",
       "  </thead>\n",
       "  <tbody>\n",
       "    <tr>\n",
       "      <th>73</th>\n",
       "      <td>Eminem</td>\n",
       "      <td>hiphop</td>\n",
       "      <td>3 Verses</td>\n",
       "      <td>I'm the illest rapper to hold a cordless \\n Pa...</td>\n",
       "    </tr>\n",
       "    <tr>\n",
       "      <th>107</th>\n",
       "      <td>Public Enemy</td>\n",
       "      <td>hiphop</td>\n",
       "      <td>Swindlers Lust</td>\n",
       "      <td>A dollar a rhyme but we barely get a dime \\n I...</td>\n",
       "    </tr>\n",
       "    <tr>\n",
       "      <th>59</th>\n",
       "      <td>Ghostface Killah</td>\n",
       "      <td>hiphop</td>\n",
       "      <td>Tush</td>\n",
       "      <td>(Intro: Missy Elliott) \\n Ooh... This that fir...</td>\n",
       "    </tr>\n",
       "    <tr>\n",
       "      <th>120</th>\n",
       "      <td>Public Enemy</td>\n",
       "      <td>hiphop</td>\n",
       "      <td>Bring That Beat Back</td>\n",
       "      <td>Played in Cincinnati \\n Wit my whole head napp...</td>\n",
       "    </tr>\n",
       "    <tr>\n",
       "      <th>78</th>\n",
       "      <td>Radiohead</td>\n",
       "      <td>rock</td>\n",
       "      <td>Where I End And You Begin. (The Sky Is Falling...</td>\n",
       "      <td>There's a gap in between \\n There's a gap wher...</td>\n",
       "    </tr>\n",
       "    <tr>\n",
       "      <th>477</th>\n",
       "      <td>Eminem</td>\n",
       "      <td>hiphop</td>\n",
       "      <td>We On Fire( Ja Diss)</td>\n",
       "      <td>(50 Cent) \\n Hahahaha \\n G G G G G G G G-Unit ...</td>\n",
       "    </tr>\n",
       "    <tr>\n",
       "      <th>165</th>\n",
       "      <td>Red Hot Chili Peppers</td>\n",
       "      <td>rock</td>\n",
       "      <td>Turn It Again</td>\n",
       "      <td>Some of us get a little and some a lot \\n We'v...</td>\n",
       "    </tr>\n",
       "    <tr>\n",
       "      <th>37</th>\n",
       "      <td>Britney Spears</td>\n",
       "      <td>pop</td>\n",
       "      <td>Let Me Be</td>\n",
       "      <td>You try to read me \\n You try to figure out \\n...</td>\n",
       "    </tr>\n",
       "    <tr>\n",
       "      <th>162</th>\n",
       "      <td>De La Soul</td>\n",
       "      <td>hiphop</td>\n",
       "      <td>Buddy (Remix)</td>\n",
       "      <td>Dove: \\n Meany, meany, meany, meany, meany (Sa...</td>\n",
       "    </tr>\n",
       "    <tr>\n",
       "      <th>148</th>\n",
       "      <td>The Doors</td>\n",
       "      <td>rock</td>\n",
       "      <td>Black Train Song</td>\n",
       "      <td>People get ready \\n There's a train-a-coming \\...</td>\n",
       "    </tr>\n",
       "  </tbody>\n",
       "</table>\n",
       "</div>"
      ],
      "text/plain": [
       "                    artist   genre  \\\n",
       "73                  Eminem  hiphop   \n",
       "107           Public Enemy  hiphop   \n",
       "59        Ghostface Killah  hiphop   \n",
       "120           Public Enemy  hiphop   \n",
       "78               Radiohead    rock   \n",
       "477                 Eminem  hiphop   \n",
       "165  Red Hot Chili Peppers    rock   \n",
       "37          Britney Spears     pop   \n",
       "162             De La Soul  hiphop   \n",
       "148              The Doors    rock   \n",
       "\n",
       "                                                  song  \\\n",
       "73                                            3 Verses   \n",
       "107                                     Swindlers Lust   \n",
       "59                                                Tush   \n",
       "120                               Bring That Beat Back   \n",
       "78   Where I End And You Begin. (The Sky Is Falling...   \n",
       "477                               We On Fire( Ja Diss)   \n",
       "165                                      Turn It Again   \n",
       "37                                           Let Me Be   \n",
       "162                                      Buddy (Remix)   \n",
       "148                                   Black Train Song   \n",
       "\n",
       "                                                lyrics  \n",
       "73   I'm the illest rapper to hold a cordless \\n Pa...  \n",
       "107  A dollar a rhyme but we barely get a dime \\n I...  \n",
       "59   (Intro: Missy Elliott) \\n Ooh... This that fir...  \n",
       "120  Played in Cincinnati \\n Wit my whole head napp...  \n",
       "78   There's a gap in between \\n There's a gap wher...  \n",
       "477  (50 Cent) \\n Hahahaha \\n G G G G G G G G-Unit ...  \n",
       "165  Some of us get a little and some a lot \\n We'v...  \n",
       "37   You try to read me \\n You try to figure out \\n...  \n",
       "162  Dove: \\n Meany, meany, meany, meany, meany (Sa...  \n",
       "148  People get ready \\n There's a train-a-coming \\...  "
      ]
     },
     "execution_count": 82,
     "metadata": {},
     "output_type": "execute_result"
    }
   ],
   "source": [
    "df.sample(10)"
   ]
  },
  {
   "cell_type": "markdown",
   "metadata": {},
   "source": [
    "## 2. Descripción de los datos"
   ]
  },
  {
   "cell_type": "code",
   "execution_count": 66,
   "metadata": {},
   "outputs": [
    {
     "data": {
      "text/plain": [
       "<matplotlib.axes._subplots.AxesSubplot at 0x1ee58167548>"
      ]
     },
     "execution_count": 66,
     "metadata": {},
     "output_type": "execute_result"
    },
    {
     "data": {
      "image/png": "[encoded data removed]",
      "text/plain": [
       "<Figure size 720x1440 with 1 Axes>"
      ]
     },
     "metadata": {},
     "output_type": "display_data"
    }
   ],
   "source": [
    "sns.countplot(y=df['artist'],order=df['artist'].value_counts().index)"
   ]
  },
  {
   "cell_type": "code",
   "execution_count": 67,
   "metadata": {},
   "outputs": [
    {
     "data": {
      "text/plain": [
       "<matplotlib.axes._subplots.AxesSubplot at 0x1ee57da9888>"
      ]
     },
     "execution_count": 67,
     "metadata": {},
     "output_type": "execute_result"
    },
    {
     "data": {
      "image/png": "[encoded data removed]",
      "text/plain": [
       "<Figure size 720x720 with 1 Axes>"
      ]
     },
     "metadata": {},
     "output_type": "display_data"
    }
   ],
   "source": [
    "plt.figure(figsize=(10,10))\n",
    "sns.countplot(y=df['genre'],order=df['genre'].value_counts().index)"
   ]
  },
  {
   "cell_type": "markdown",
   "metadata": {},
   "source": [
    "Se puede observar que en el gráfico de artistas, que posee este dataset, que los que más han escrito canciones son cantantes de pop y hip hop, entre ellos: Eminem, Britney Spear y Michael Jackson, sin embargo, al considerar el genero y el número de canciones escritas, son los artistas de rock los que tienen una mayor cantidad de canciones en esta base de datos.\n",
    "\n",
    "Lo anterior implica que para esta muestra, el número total de canciones de todos los artistas de rock, casi cuadriplica al total canciones escritas por los artistas de pop, los cuales son pocos pero concentran un gran número de canciones.  "
   ]
  },
  {
   "cell_type": "markdown",
   "metadata": {},
   "source": [
    "## 3. Matriz de ocurrencias"
   ]
  },
  {
   "cell_type": "code",
   "execution_count": 177,
   "metadata": {},
   "outputs": [],
   "source": [
    "def vectorizer(df, groupby_col, vector_col):\n",
    "    df_groupby = df['genre']==groupby_col\n",
    "    df_vector_col = df[df_groupby]\n",
    "    \n",
    "    count_vectorizer=CountVectorizer(stop_words='english')\n",
    "    count_vectorizer_fit = count_vectorizer.fit_transform(df_vector_col[vector_col])\n",
    "    words = count_vectorizer.get_feature_names()\n",
    "    words_freq = count_vectorizer_fit.toarray().sum(axis=0)\n",
    "    \n",
    "    df_cv = pd.DataFrame({\"words\": words, \"freq\": words_freq})\n",
    "    words_100 = df_cv.sort_values(['freq'],ascending=False)[0:100]\n",
    "    \n",
    "    return words_100"
   ]
  },
  {
   "cell_type": "code",
   "execution_count": 178,
   "metadata": {},
   "outputs": [],
   "source": [
    "def vectorizer_count(df, groupby_col, vector_col):\n",
    "    df_groupby = df['genre']==groupby_col\n",
    "    df_vector_col = df[df_groupby]\n",
    "    \n",
    "    count_vectorizer=CountVectorizer(stop_words='english')\n",
    "    count_vectorizer_fit = count_vectorizer.fit_transform(df_vector_col[vector_col])\n",
    "    words = count_vectorizer.get_feature_names()\n",
    "    words_freq = count_vectorizer_fit.toarray().sum(axis=0)\n",
    "    \n",
    "    df_cv = pd.DataFrame({\"words\": words, \"freq\": words_freq})\n",
    "    \n",
    "    return df_cv"
   ]
  },
  {
   "cell_type": "code",
   "execution_count": 179,
   "metadata": {},
   "outputs": [],
   "source": [
    "pop_w_count = vectorizer_count(df,'pop','lyrics').shape[0]\n",
    "metal_w_count = vectorizer_count(df,'metal','lyrics').shape[0]\n",
    "rock_w_count = vectorizer_count(df,'rock','lyrics').shape[0]\n",
    "hiphop_w_count = vectorizer_count(df,'hiphop','lyrics').shape[0]"
   ]
  },
  {
   "cell_type": "code",
   "execution_count": 180,
   "metadata": {},
   "outputs": [
    {
     "name": "stdout",
     "output_type": "stream",
     "text": [
      "Total letras en pop: 12268\n",
      "Total letras en metal: 15445\n",
      "Total letras en rock: 20186\n",
      "Total letras en hip hop: 36024\n"
     ]
    }
   ],
   "source": [
    "print('Total letras en pop:',pop_w_count)\n",
    "print('Total letras en metal:',metal_w_count)\n",
    "print('Total letras en rock:',rock_w_count)\n",
    "print('Total letras en hip hop:',hiphop_w_count)"
   ]
  },
  {
   "cell_type": "code",
   "execution_count": 181,
   "metadata": {},
   "outputs": [],
   "source": [
    "pop_w = vectorizer(df,'pop','lyrics')"
   ]
  },
  {
   "cell_type": "code",
   "execution_count": 182,
   "metadata": {
    "scrolled": true
   },
   "outputs": [
    {
     "data": {
      "text/html": [
       "<div>\n",
       "<style scoped>\n",
       "    .dataframe tbody tr th:only-of-type {\n",
       "        vertical-align: middle;\n",
       "    }\n",
       "\n",
       "    .dataframe tbody tr th {\n",
       "        vertical-align: top;\n",
       "    }\n",
       "\n",
       "    .dataframe thead th {\n",
       "        text-align: right;\n",
       "    }\n",
       "</style>\n",
       "<table border=\"1\" class=\"dataframe\">\n",
       "  <thead>\n",
       "    <tr style=\"text-align: right;\">\n",
       "      <th></th>\n",
       "      <th>words</th>\n",
       "      <th>freq</th>\n",
       "    </tr>\n",
       "  </thead>\n",
       "  <tbody>\n",
       "    <tr>\n",
       "      <th>3135</th>\n",
       "      <td>don</td>\n",
       "      <td>3329</td>\n",
       "    </tr>\n",
       "    <tr>\n",
       "      <th>6219</th>\n",
       "      <td>like</td>\n",
       "      <td>2995</td>\n",
       "    </tr>\n",
       "    <tr>\n",
       "      <th>6390</th>\n",
       "      <td>love</td>\n",
       "      <td>2914</td>\n",
       "    </tr>\n",
       "    <tr>\n",
       "      <th>7455</th>\n",
       "      <td>oh</td>\n",
       "      <td>2737</td>\n",
       "    </tr>\n",
       "    <tr>\n",
       "      <th>5918</th>\n",
       "      <td>know</td>\n",
       "      <td>2677</td>\n",
       "    </tr>\n",
       "    <tr>\n",
       "      <th>5748</th>\n",
       "      <td>just</td>\n",
       "      <td>2610</td>\n",
       "    </tr>\n",
       "    <tr>\n",
       "      <th>12163</th>\n",
       "      <td>yeah</td>\n",
       "      <td>2244</td>\n",
       "    </tr>\n",
       "    <tr>\n",
       "      <th>655</th>\n",
       "      <td>baby</td>\n",
       "      <td>2192</td>\n",
       "    </tr>\n",
       "    <tr>\n",
       "      <th>4582</th>\n",
       "      <td>got</td>\n",
       "      <td>2156</td>\n",
       "    </tr>\n",
       "    <tr>\n",
       "      <th>6290</th>\n",
       "      <td>ll</td>\n",
       "      <td>1743</td>\n",
       "    </tr>\n",
       "  </tbody>\n",
       "</table>\n",
       "</div>"
      ],
      "text/plain": [
       "      words  freq\n",
       "3135    don  3329\n",
       "6219   like  2995\n",
       "6390   love  2914\n",
       "7455     oh  2737\n",
       "5918   know  2677\n",
       "5748   just  2610\n",
       "12163  yeah  2244\n",
       "655    baby  2192\n",
       "4582    got  2156\n",
       "6290     ll  1743"
      ]
     },
     "execution_count": 182,
     "metadata": {},
     "output_type": "execute_result"
    }
   ],
   "source": [
    "pop_w.head(10)"
   ]
  },
  {
   "cell_type": "code",
   "execution_count": 183,
   "metadata": {},
   "outputs": [],
   "source": [
    "rock_w = vectorizer(df,'rock','lyrics')"
   ]
  },
  {
   "cell_type": "code",
   "execution_count": 184,
   "metadata": {},
   "outputs": [
    {
     "data": {
      "text/html": [
       "<div>\n",
       "<style scoped>\n",
       "    .dataframe tbody tr th:only-of-type {\n",
       "        vertical-align: middle;\n",
       "    }\n",
       "\n",
       "    .dataframe tbody tr th {\n",
       "        vertical-align: top;\n",
       "    }\n",
       "\n",
       "    .dataframe thead th {\n",
       "        text-align: right;\n",
       "    }\n",
       "</style>\n",
       "<table border=\"1\" class=\"dataframe\">\n",
       "  <thead>\n",
       "    <tr style=\"text-align: right;\">\n",
       "      <th></th>\n",
       "      <th>words</th>\n",
       "      <th>freq</th>\n",
       "    </tr>\n",
       "  </thead>\n",
       "  <tbody>\n",
       "    <tr>\n",
       "      <th>5282</th>\n",
       "      <td>don</td>\n",
       "      <td>5284</td>\n",
       "    </tr>\n",
       "    <tr>\n",
       "      <th>10362</th>\n",
       "      <td>love</td>\n",
       "      <td>5114</td>\n",
       "    </tr>\n",
       "    <tr>\n",
       "      <th>9697</th>\n",
       "      <td>know</td>\n",
       "      <td>4702</td>\n",
       "    </tr>\n",
       "    <tr>\n",
       "      <th>12077</th>\n",
       "      <td>oh</td>\n",
       "      <td>4258</td>\n",
       "    </tr>\n",
       "    <tr>\n",
       "      <th>20056</th>\n",
       "      <td>yeah</td>\n",
       "      <td>4157</td>\n",
       "    </tr>\n",
       "    <tr>\n",
       "      <th>9517</th>\n",
       "      <td>just</td>\n",
       "      <td>4103</td>\n",
       "    </tr>\n",
       "    <tr>\n",
       "      <th>7606</th>\n",
       "      <td>got</td>\n",
       "      <td>3872</td>\n",
       "    </tr>\n",
       "    <tr>\n",
       "      <th>10220</th>\n",
       "      <td>ll</td>\n",
       "      <td>3825</td>\n",
       "    </tr>\n",
       "    <tr>\n",
       "      <th>10113</th>\n",
       "      <td>like</td>\n",
       "      <td>3710</td>\n",
       "    </tr>\n",
       "    <tr>\n",
       "      <th>19093</th>\n",
       "      <td>ve</td>\n",
       "      <td>2877</td>\n",
       "    </tr>\n",
       "  </tbody>\n",
       "</table>\n",
       "</div>"
      ],
      "text/plain": [
       "      words  freq\n",
       "5282    don  5284\n",
       "10362  love  5114\n",
       "9697   know  4702\n",
       "12077    oh  4258\n",
       "20056  yeah  4157\n",
       "9517   just  4103\n",
       "7606    got  3872\n",
       "10220    ll  3825\n",
       "10113  like  3710\n",
       "19093    ve  2877"
      ]
     },
     "execution_count": 184,
     "metadata": {},
     "output_type": "execute_result"
    }
   ],
   "source": [
    "rock_w.head(10)"
   ]
  },
  {
   "cell_type": "code",
   "execution_count": 185,
   "metadata": {},
   "outputs": [],
   "source": [
    "metal_w = vectorizer(df,'metal','lyrics')"
   ]
  },
  {
   "cell_type": "code",
   "execution_count": 186,
   "metadata": {},
   "outputs": [
    {
     "data": {
      "text/html": [
       "<div>\n",
       "<style scoped>\n",
       "    .dataframe tbody tr th:only-of-type {\n",
       "        vertical-align: middle;\n",
       "    }\n",
       "\n",
       "    .dataframe tbody tr th {\n",
       "        vertical-align: top;\n",
       "    }\n",
       "\n",
       "    .dataframe thead th {\n",
       "        text-align: right;\n",
       "    }\n",
       "</style>\n",
       "<table border=\"1\" class=\"dataframe\">\n",
       "  <thead>\n",
       "    <tr style=\"text-align: right;\">\n",
       "      <th></th>\n",
       "      <th>words</th>\n",
       "      <th>freq</th>\n",
       "    </tr>\n",
       "  </thead>\n",
       "  <tbody>\n",
       "    <tr>\n",
       "      <th>7883</th>\n",
       "      <td>life</td>\n",
       "      <td>1233</td>\n",
       "    </tr>\n",
       "    <tr>\n",
       "      <th>4088</th>\n",
       "      <td>don</td>\n",
       "      <td>1181</td>\n",
       "    </tr>\n",
       "    <tr>\n",
       "      <th>3284</th>\n",
       "      <td>death</td>\n",
       "      <td>1139</td>\n",
       "    </tr>\n",
       "    <tr>\n",
       "      <th>13844</th>\n",
       "      <td>time</td>\n",
       "      <td>1096</td>\n",
       "    </tr>\n",
       "    <tr>\n",
       "      <th>7977</th>\n",
       "      <td>ll</td>\n",
       "      <td>1069</td>\n",
       "    </tr>\n",
       "    <tr>\n",
       "      <th>7622</th>\n",
       "      <td>know</td>\n",
       "      <td>1048</td>\n",
       "    </tr>\n",
       "    <tr>\n",
       "      <th>7524</th>\n",
       "      <td>just</td>\n",
       "      <td>993</td>\n",
       "    </tr>\n",
       "    <tr>\n",
       "      <th>1458</th>\n",
       "      <td>blood</td>\n",
       "      <td>884</td>\n",
       "    </tr>\n",
       "    <tr>\n",
       "      <th>7914</th>\n",
       "      <td>like</td>\n",
       "      <td>869</td>\n",
       "    </tr>\n",
       "    <tr>\n",
       "      <th>3766</th>\n",
       "      <td>die</td>\n",
       "      <td>866</td>\n",
       "    </tr>\n",
       "  </tbody>\n",
       "</table>\n",
       "</div>"
      ],
      "text/plain": [
       "       words  freq\n",
       "7883    life  1233\n",
       "4088     don  1181\n",
       "3284   death  1139\n",
       "13844   time  1096\n",
       "7977      ll  1069\n",
       "7622    know  1048\n",
       "7524    just   993\n",
       "1458   blood   884\n",
       "7914    like   869\n",
       "3766     die   866"
      ]
     },
     "execution_count": 186,
     "metadata": {},
     "output_type": "execute_result"
    }
   ],
   "source": [
    "metal_w.head(10)"
   ]
  },
  {
   "cell_type": "code",
   "execution_count": 187,
   "metadata": {},
   "outputs": [],
   "source": [
    "hiphop_w = vectorizer(df,'hiphop','lyrics')"
   ]
  },
  {
   "cell_type": "code",
   "execution_count": 188,
   "metadata": {},
   "outputs": [
    {
     "data": {
      "text/html": [
       "<div>\n",
       "<style scoped>\n",
       "    .dataframe tbody tr th:only-of-type {\n",
       "        vertical-align: middle;\n",
       "    }\n",
       "\n",
       "    .dataframe tbody tr th {\n",
       "        vertical-align: top;\n",
       "    }\n",
       "\n",
       "    .dataframe thead th {\n",
       "        text-align: right;\n",
       "    }\n",
       "</style>\n",
       "<table border=\"1\" class=\"dataframe\">\n",
       "  <thead>\n",
       "    <tr style=\"text-align: right;\">\n",
       "      <th></th>\n",
       "      <th>words</th>\n",
       "      <th>freq</th>\n",
       "    </tr>\n",
       "  </thead>\n",
       "  <tbody>\n",
       "    <tr>\n",
       "      <th>18361</th>\n",
       "      <td>like</td>\n",
       "      <td>12055</td>\n",
       "    </tr>\n",
       "    <tr>\n",
       "      <th>13533</th>\n",
       "      <td>got</td>\n",
       "      <td>7613</td>\n",
       "    </tr>\n",
       "    <tr>\n",
       "      <th>9466</th>\n",
       "      <td>don</td>\n",
       "      <td>7604</td>\n",
       "    </tr>\n",
       "    <tr>\n",
       "      <th>17532</th>\n",
       "      <td>know</td>\n",
       "      <td>6535</td>\n",
       "    </tr>\n",
       "    <tr>\n",
       "      <th>17082</th>\n",
       "      <td>just</td>\n",
       "      <td>6272</td>\n",
       "    </tr>\n",
       "    <tr>\n",
       "      <th>28298</th>\n",
       "      <td>shit</td>\n",
       "      <td>5546</td>\n",
       "    </tr>\n",
       "    <tr>\n",
       "      <th>909</th>\n",
       "      <td>ain</td>\n",
       "      <td>4782</td>\n",
       "    </tr>\n",
       "    <tr>\n",
       "      <th>5237</th>\n",
       "      <td>cause</td>\n",
       "      <td>4737</td>\n",
       "    </tr>\n",
       "    <tr>\n",
       "      <th>19198</th>\n",
       "      <td>man</td>\n",
       "      <td>4481</td>\n",
       "    </tr>\n",
       "    <tr>\n",
       "      <th>35793</th>\n",
       "      <td>yo</td>\n",
       "      <td>4425</td>\n",
       "    </tr>\n",
       "  </tbody>\n",
       "</table>\n",
       "</div>"
      ],
      "text/plain": [
       "       words   freq\n",
       "18361   like  12055\n",
       "13533    got   7613\n",
       "9466     don   7604\n",
       "17532   know   6535\n",
       "17082   just   6272\n",
       "28298   shit   5546\n",
       "909      ain   4782\n",
       "5237   cause   4737\n",
       "19198    man   4481\n",
       "35793     yo   4425"
      ]
     },
     "execution_count": 188,
     "metadata": {},
     "output_type": "execute_result"
    }
   ],
   "source": [
    "hiphop_w.head(10)"
   ]
  },
  {
   "cell_type": "markdown",
   "metadata": {},
   "source": [
    "Se puede observar, que hay palabras que se repiten en casi todos los generos, estas palabras son: got,  like y don (probablemente referida a don't).\n",
    "\n",
    "Las listas de palabras de rock y pop, son bastante similares, en cuanto al top 10, aún así la cantidad de palabras utilizadas en rock, casi duplican al número de palabras que se utilizan en el pop.\n",
    "\n",
    "También es necesario, considerar que hay otras palabras que se repiten por cada estilo, por ejemplo en el caso de metal, hay una mayor frecuencia de las palabras: death, time y blood. En el caso de Hip Hop, hay una mayor frecuencia de palabras como: yo, shit y cause, las cuales, son más propias del genero. "
   ]
  },
  {
   "cell_type": "markdown",
   "metadata": {},
   "source": [
    "## 4. Entrenamiento del Modelo"
   ]
  },
  {
   "cell_type": "code",
   "execution_count": 189,
   "metadata": {},
   "outputs": [],
   "source": [
    "X_train, X_test, y_train, y_test = train_test_split(df['lyrics'],df['genre'], test_size=.33, random_state=1001)"
   ]
  },
  {
   "cell_type": "code",
   "execution_count": 190,
   "metadata": {},
   "outputs": [],
   "source": [
    "pipeline_model = Pipeline([('CountV', CountVectorizer()),('model', MultinomialNB())])"
   ]
  },
  {
   "cell_type": "code",
   "execution_count": 191,
   "metadata": {},
   "outputs": [],
   "source": [
    "pipeline_model.fit(X_train, y_train)\n",
    "y_hat = pipeline_model.predict(X_test)"
   ]
  },
  {
   "cell_type": "code",
   "execution_count": 192,
   "metadata": {},
   "outputs": [],
   "source": [
    "new_lyrics = ['I got a place in the underworld', \n",
    "'As veils of ignorance, hatred retains Storm of arrows through karma Seeking light through samsara', \n",
    "\"Bye bye Don't want to be a fool for you Just another player in your game for two You may hate me but it ain't no lie\", \n",
    "'Move bitch, get out the way Get out the way bitch, get out the way Move bitch, get out the way Get out the way bitch, get out the way',\n",
    "'Sexual violence doesn’t start and end with rape It starts in our books andbehind our school gates',\n",
    "\"Take it from the girl you claimed to love You gonna get some bad karma I'm the one who had to learn to \\build a heart made of armor From the girl who made you soup and tied your shoes when you were hurting\\ You are not deserving, you are not deserving\"]\n",
    "\n",
    "#Respuestas para comparar con la predicción\n",
    "\n",
    "#ARTISTA                       GÉNERO\n",
    "# Brody Dalle - Underworld     Rock\n",
    "# Gorguts - Forgotten Arrows   Metal\n",
    "# N'SYNC - Bye Bye Bye         Pop\n",
    "# Ludacris -Move B*tch         Hip Hop\n",
    "# IDLES - Mother               Punk-Rock\n",
    "#Banks-Drowning                Pop"
   ]
  },
  {
   "cell_type": "code",
   "execution_count": 193,
   "metadata": {},
   "outputs": [],
   "source": [
    "new_pd = pd.Series(new_lyrics)"
   ]
  },
  {
   "cell_type": "code",
   "execution_count": 194,
   "metadata": {},
   "outputs": [],
   "source": [
    "y_hat_new_lyrics = pipeline_model.predict(new_pd)"
   ]
  },
  {
   "cell_type": "code",
   "execution_count": 196,
   "metadata": {},
   "outputs": [],
   "source": [
    "y_pd = pd.DataFrame(y_hat_new_lyrics)"
   ]
  },
  {
   "cell_type": "code",
   "execution_count": 197,
   "metadata": {},
   "outputs": [
    {
     "data": {
      "text/html": [
       "<div>\n",
       "<style scoped>\n",
       "    .dataframe tbody tr th:only-of-type {\n",
       "        vertical-align: middle;\n",
       "    }\n",
       "\n",
       "    .dataframe tbody tr th {\n",
       "        vertical-align: top;\n",
       "    }\n",
       "\n",
       "    .dataframe thead th {\n",
       "        text-align: right;\n",
       "    }\n",
       "</style>\n",
       "<table border=\"1\" class=\"dataframe\">\n",
       "  <thead>\n",
       "    <tr style=\"text-align: right;\">\n",
       "      <th></th>\n",
       "      <th>0</th>\n",
       "    </tr>\n",
       "  </thead>\n",
       "  <tbody>\n",
       "    <tr>\n",
       "      <th>0</th>\n",
       "      <td>rock</td>\n",
       "    </tr>\n",
       "    <tr>\n",
       "      <th>1</th>\n",
       "      <td>metal</td>\n",
       "    </tr>\n",
       "    <tr>\n",
       "      <th>2</th>\n",
       "      <td>rock</td>\n",
       "    </tr>\n",
       "    <tr>\n",
       "      <th>3</th>\n",
       "      <td>hiphop</td>\n",
       "    </tr>\n",
       "    <tr>\n",
       "      <th>4</th>\n",
       "      <td>metal</td>\n",
       "    </tr>\n",
       "    <tr>\n",
       "      <th>5</th>\n",
       "      <td>rock</td>\n",
       "    </tr>\n",
       "  </tbody>\n",
       "</table>\n",
       "</div>"
      ],
      "text/plain": [
       "        0\n",
       "0    rock\n",
       "1   metal\n",
       "2    rock\n",
       "3  hiphop\n",
       "4   metal\n",
       "5    rock"
      ]
     },
     "execution_count": 197,
     "metadata": {},
     "output_type": "execute_result"
    }
   ],
   "source": [
    "y_pd"
   ]
  },
  {
   "cell_type": "markdown",
   "metadata": {},
   "source": [
    "En cuanto a las letras ingresadas en un nuevo arreglo, para ver de manera práctica, como se desempeña el modelo, se observa que predice bien el 50% de las veces (de una muestra de 6), según los generos a los que realmente correspondían los artistas.\n",
    "\n",
    "Para el caso de pop, en ambas predicciones ocurrió un Falso Negativo, lo cual, para está pequeña muestra es un desempeño bastante malo en cuanto a dicha clase. Hay que tener en cuenta que entre las palabras más frecuentes, habían bastantes coincidencias entre el género rock y pop. "
   ]
  },
  {
   "cell_type": "code",
   "execution_count": 198,
   "metadata": {},
   "outputs": [],
   "source": [
    "target_label = df['genre'].unique()"
   ]
  },
  {
   "cell_type": "code",
   "execution_count": 200,
   "metadata": {
    "scrolled": false
   },
   "outputs": [
    {
     "data": {
      "text/plain": [
       "Text(70.0, 0.5, 'Predicted classes on training')"
      ]
     },
     "execution_count": 200,
     "metadata": {},
     "output_type": "execute_result"
    },
    {
     "data": {
      "image/png": "[encoded data removed]",
      "text/plain": [
       "<Figure size 720x720 with 1 Axes>"
      ]
     },
     "metadata": {},
     "output_type": "display_data"
    }
   ],
   "source": [
    "plt.figure(figsize=(10, 10))\n",
    "sns.heatmap(confusion_matrix(y_test,y_hat)/len(y_test),\n",
    "            annot=True,\n",
    "            xticklabels=target_label,\n",
    "            yticklabels=target_label,\n",
    "            cbar=False,linewidths=.5,\n",
    "            annot_kws={\"fontsize\":16},\n",
    "            fmt='.1%',#'d'\n",
    "            cmap=\"Blues\")\n",
    "plt.xlabel('Classes on testing data')\n",
    "plt.ylabel('Predicted classes on training')"
   ]
  },
  {
   "cell_type": "markdown",
   "metadata": {},
   "source": [
    "Se puede observar que la mayor cantidad de valores predichos de manera correcta se encuentran en el género pop y metal. Estos generos erán lo que tenían una menor frecuenca de palabras encontradas con la función vectorizer."
   ]
  },
  {
   "cell_type": "code",
   "execution_count": 201,
   "metadata": {},
   "outputs": [],
   "source": [
    "def plot_class_report(y_test, y_hat, classes_labels):\n",
    "\n",
    "    plt.figure(figsize=(15, 10))\n",
    "    tmp_report = classification_report(y_test, y_hat, output_dict=True)\n",
    "    targets = list(classes_labels)\n",
    "    targets.append('average')\n",
    "    tmp_report = pd.DataFrame(tmp_report)\\\n",
    "                    .drop(columns=['weighted avg', 'macro avg'])\n",
    "    tmp_report.columns = targets\n",
    "    tmp_report = tmp_report.drop(labels='support')\n",
    "    tmp_report = tmp_report.drop(columns='average')\n",
    "    tmp_report = tmp_report.T\n",
    "\n",
    "    for index, (colname, serie) in enumerate(tmp_report.iteritems()):\n",
    "        plt.subplot(3, 1, index + 1)\n",
    "        serie.plot(kind = 'barh')\n",
    "        plt.title(f\"Métrica: {colname}\")\n",
    "        plt.tight_layout()"
   ]
  },
  {
   "cell_type": "code",
   "execution_count": 202,
   "metadata": {},
   "outputs": [
    {
     "data": {
      "image/png": "[encoded data removed]",
      "text/plain": [
       "<Figure size 1080x720 with 3 Axes>"
      ]
     },
     "metadata": {},
     "output_type": "display_data"
    }
   ],
   "source": [
    "plot_class_report(y_test, y_hat, target_label)"
   ]
  },
  {
   "cell_type": "markdown",
   "metadata": {},
   "source": [
    "En el caso de la presición, el genero metal fue predicho de manera correcta muchas más veces, respecto a las otras clases. Esto nos indica que las predicciones realizadas fueron efectivamente positivas teniendo encuenta, respecto al total de prediciones realizadas al género, es decir tanto correctas como incorrectas (predicciones que pertenencen a otros géneros musicales atribuidas como metal).\n",
    "\n",
    "Para de la sensibilidad, también el mejor desempeño del modelo fue para el genero metal. Esto significa que se consideraron las veces en que el modelo falló al detectar el género (que no identifico metal cuando efectivamente era de esta clase). Para este caso, esta métrica también es favorable. \n",
    "\n",
    "Para el caso de F1, se confirma que el mejor desempeño del modelo es para el género metal, seguido de pop. Esta métrica es robusta inclusive con un desbalance de clases."
   ]
  },
  {
   "cell_type": "markdown",
   "metadata": {},
   "source": [
    "## 5. Mejora del Modelo"
   ]
  },
  {
   "cell_type": "markdown",
   "metadata": {},
   "source": [
    "Para este caso, sería bueno utilizar una técnica de undersampling, debido al desbalance que presenta la clase rock. Hay que considerar que muchos valores se repiten (palabras idénticas) entre los géneros rock y pop. Al balancear las clases, es muy probable que se mejore considerablemente la predicción de los valores asociados a la clase pop."
   ]
  }
 ],
 "metadata": {
  "kernelspec": {
   "display_name": "Python 3",
   "language": "python",
   "name": "python3"
  },
  "language_info": {
   "codemirror_mode": {
    "name": "ipython",
    "version": 3
   },
   "file_extension": ".py",
   "mimetype": "text/x-python",
   "name": "python",
   "nbconvert_exporter": "python",
   "pygments_lexer": "ipython3",
   "version": "3.7.4"
  }
 },
 "nbformat": 4,
 "nbformat_minor": 4
}
